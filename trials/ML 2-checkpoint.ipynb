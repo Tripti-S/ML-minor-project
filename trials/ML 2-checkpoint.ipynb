{
 "cells": [
  {
   "cell_type": "code",
   "execution_count": 14,
   "metadata": {},
   "outputs": [
    {
     "name": "stdout",
     "output_type": "stream",
     "text": [
      "Strategy :  17006\n",
      "Puzzle :  3960\n",
      "Board :  1722\n",
      "Education :  951\n",
      "Entertainment :  7991\n",
      "Casual :  1697\n",
      "Action :  2012\n",
      "Card :  674\n",
      "Simulation :  2143\n",
      "Finance :  51\n",
      "Word :  125\n",
      "Role Playing :  1126\n",
      "Sports :  739\n",
      "Adventure :  836\n",
      "Family :  773\n",
      "Travel :  93\n",
      "Casino :  75\n",
      "Business :  45\n",
      "Navigation :  15\n",
      "Reference :  84\n",
      "Lifestyle :  220\n",
      "Social Networking :  126\n",
      "Medical :  7\n",
      "Utilities :  177\n",
      "Trivia :  289\n",
      "Racing :  129\n",
      "Books :  38\n",
      "Music :  112\n",
      "Productivity :  62\n",
      "Health & Fitness :  34\n",
      "Food & Drink :  57\n",
      "News :  20\n",
      "Photo & Video :  25\n",
      "Stickers :  31\n",
      "Emoji & Expressions :  15\n",
      "Sports & Activities :  4\n",
      "Gaming :  25\n",
      "Comics & Cartoons :  2\n",
      "Animals & Nature :  4\n",
      "People :  3\n",
      "Shopping :  4\n",
      "Kids & Family :  3\n",
      "Art :  2\n",
      "Places & Objects :  4\n",
      "Weather :  1\n",
      "Magazines & Newspapers :  1\n"
     ]
    },
    {
     "data": {
      "image/png": "[encoded data removed]",
      "text/plain": [
       "<Figure size 432x288 with 1 Axes>"
      ]
     },
     "metadata": {
      "needs_background": "light"
     },
     "output_type": "display_data"
    }
   ],
   "source": [
    "import pandas as pd           #importing pandas\n",
    "df = pd.read_csv (r'C:\\Users\\Anju\\Desktop\\appstore.csv')    #reading the given appstore file\n",
    "                                             \n",
    "\n",
    "import matplotlib.pyplot as plt                             #importing matplotlib for plots\n",
    "x=0\n",
    "w=[]\n",
    "freq={}\n",
    "def CountFrequency(my_list):\n",
    "    \n",
    "    for item in my_list:\n",
    "        if (item in freq): \n",
    "            freq[item] += 1\n",
    "        else: \n",
    "            freq[item] = 1\n",
    "  \n",
    "    for key, value in freq.items():\n",
    "        print (\"% s : % d\"%(key, value))\n",
    "        #plotting the graph \n",
    "\n",
    "    # Driver function \n",
    "if __name__ == \"__main__\": \n",
    "    my_list=w\n",
    "\n",
    "for i in df.Genres:                                         #conversion of strings in genres to lists\n",
    "    c=i.split(\", \")\n",
    "    c.remove('Games')\n",
    "    w+=c\n",
    "CountFrequency(w)\n",
    "plt.bar(list(freq.keys()),freq.values(),color='g')\n",
    "plt.show()    "
   ]
  },
  {
   "cell_type": "code",
   "execution_count": null,
   "metadata": {},
   "outputs": [],
   "source": []
  },
  {
   "cell_type": "code",
   "execution_count": null,
   "metadata": {},
   "outputs": [],
   "source": []
  }
 ],
 "metadata": {
  "kernelspec": {
   "display_name": "Python 3",
   "language": "python",
   "name": "python3"
  },
  "language_info": {
   "codemirror_mode": {
    "name": "ipython",
    "version": 3
   },
   "file_extension": ".py",
   "mimetype": "text/x-python",
   "name": "python",
   "nbconvert_exporter": "python",
   "pygments_lexer": "ipython3",
   "version": "3.7.3"
  }
 },
 "nbformat": 4,
 "nbformat_minor": 2
}
